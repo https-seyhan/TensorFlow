{
 "cells": [
  {
   "cell_type": "code",
   "execution_count": 1,
   "metadata": {},
   "outputs": [
    {
     "name": "stdout",
     "output_type": "stream",
     "text": [
      "INFO:tensorflow:x is <tf.Variable 'Variable:0' shape=() dtype=float32, numpy=0.19999984> and the loss is <function <lambda> at 0x7efe7061f7a0>\n"
     ]
    }
   ],
   "source": [
    "''' Demonstrate how optimizers are used '''\n",
    "\n",
    "from __future__ import absolute_import\n",
    "from __future__ import division\n",
    "from __future__ import print_function\n",
    "\n",
    "import tensorflow as tf\n",
    "\n",
    "# Define constants\n",
    "learn_rate = 0.2\n",
    "num_steps = 100\n",
    "\n",
    "# Step 1: Define the loss function\n",
    "x = tf.Variable(0.0)\n",
    "\n",
    "#tf version 2 requires lambda\n",
    "loss = lambda:tf.pow(x, 2) - 4.0 * x + 5.0\n",
    "\n",
    "# Step 2: Create an optimizer to minimize the loss\n",
    "optimizer = tf.optimizers.Adam(learn_rate).minimize(loss,[x]).numpy()\n",
    "\n",
    "for _ in range(num_steps):\n",
    "    _, loss_val, x_val = [optimizer, loss, x]\n",
    "\n",
    "# Step 4: Print the values of x and the loss to the log\n",
    "tf.compat.v1.logging.set_verbosity(tf.compat.v1.logging.INFO)\n",
    "str = 'x is {0} and the loss is {1}'.format(x_val, loss_val)\n",
    "tf.compat.v1.logging.info(str)\n",
    "\n"
   ]
  },
  {
   "cell_type": "code",
   "execution_count": null,
   "metadata": {},
   "outputs": [],
   "source": []
  }
 ],
 "metadata": {
  "kernelspec": {
   "display_name": "Python 3",
   "language": "python",
   "name": "python3"
  },
  "language_info": {
   "codemirror_mode": {
    "name": "ipython",
    "version": 3
   },
   "file_extension": ".py",
   "mimetype": "text/x-python",
   "name": "python",
   "nbconvert_exporter": "python",
   "pygments_lexer": "ipython3",
   "version": "3.7.6"
  }
 },
 "nbformat": 4,
 "nbformat_minor": 2
}
